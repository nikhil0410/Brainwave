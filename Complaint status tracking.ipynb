{
 "cells": [
  {
   "cell_type": "code",
   "execution_count": 1,
   "metadata": {},
   "outputs": [
    {
     "data": {
      "text/html": [
       "<script>requirejs.config({paths: { 'plotly': ['https://cdn.plot.ly/plotly-latest.min']},});if(!window.Plotly) {{require(['plotly'],function(plotly) {window.Plotly=plotly;});}}</script>"
      ],
      "text/vnd.plotly.v1+html": [
       "<script>requirejs.config({paths: { 'plotly': ['https://cdn.plot.ly/plotly-latest.min']},});if(!window.Plotly) {{require(['plotly'],function(plotly) {window.Plotly=plotly;});}}</script>"
      ]
     },
     "metadata": {},
     "output_type": "display_data"
    }
   ],
   "source": [
    "import pandas as pd\n",
    "import numpy as np\n",
    "import matplotlib.pyplot as plt\n",
    "import seaborn as sns\n",
    "from sklearn.preprocessing import LabelEncoder\n",
    "from sklearn.preprocessing import OneHotEncoder\n",
    "from sklearn.preprocessing import Imputer\n",
    "import plotly.offline as py\n",
    "py.init_notebook_mode(connected=True)\n",
    "import plotly.graph_objs as go\n",
    "import plotly.tools as tls\n",
    "import os"
   ]
  },
  {
   "cell_type": "code",
   "execution_count": 46,
   "metadata": {},
   "outputs": [
    {
     "data": {
      "text/plain": [
       "Index(['Complaint-ID', 'Date-received', 'Transaction-Type', 'Complaint-reason',\n",
       "       'Company-response', 'Date-sent-to-company', 'Complaint-Status',\n",
       "       'Consumer-disputes', 'Consumer-complaint-summary'],\n",
       "      dtype='object')"
      ]
     },
     "execution_count": 46,
     "metadata": {},
     "output_type": "execute_result"
    }
   ],
   "source": [
    "train = pd.read_csv('dataset/train.csv')\n",
    "test = pd.read_csv('dataset/test.csv')\n",
    "train.columns"
   ]
  },
  {
   "cell_type": "code",
   "execution_count": 47,
   "metadata": {},
   "outputs": [],
   "source": [
    "y = train['Complaint-Status']\n"
   ]
  },
  {
   "cell_type": "code",
   "execution_count": 48,
   "metadata": {},
   "outputs": [
    {
     "data": {
      "text/html": [
       "<div>\n",
       "<style scoped>\n",
       "    .dataframe tbody tr th:only-of-type {\n",
       "        vertical-align: middle;\n",
       "    }\n",
       "\n",
       "    .dataframe tbody tr th {\n",
       "        vertical-align: top;\n",
       "    }\n",
       "\n",
       "    .dataframe thead th {\n",
       "        text-align: right;\n",
       "    }\n",
       "</style>\n",
       "<table border=\"1\" class=\"dataframe\">\n",
       "  <thead>\n",
       "    <tr style=\"text-align: right;\">\n",
       "      <th></th>\n",
       "      <th>Total</th>\n",
       "      <th>Percent</th>\n",
       "    </tr>\n",
       "  </thead>\n",
       "  <tbody>\n",
       "    <tr>\n",
       "      <th>Company-response</th>\n",
       "      <td>22506</td>\n",
       "      <td>0.520178</td>\n",
       "    </tr>\n",
       "    <tr>\n",
       "      <th>Consumer-disputes</th>\n",
       "      <td>7698</td>\n",
       "      <td>0.177923</td>\n",
       "    </tr>\n",
       "    <tr>\n",
       "      <th>Consumer-complaint-summary</th>\n",
       "      <td>0</td>\n",
       "      <td>0.000000</td>\n",
       "    </tr>\n",
       "    <tr>\n",
       "      <th>Complaint-Status</th>\n",
       "      <td>0</td>\n",
       "      <td>0.000000</td>\n",
       "    </tr>\n",
       "    <tr>\n",
       "      <th>Date-sent-to-company</th>\n",
       "      <td>0</td>\n",
       "      <td>0.000000</td>\n",
       "    </tr>\n",
       "    <tr>\n",
       "      <th>Complaint-reason</th>\n",
       "      <td>0</td>\n",
       "      <td>0.000000</td>\n",
       "    </tr>\n",
       "    <tr>\n",
       "      <th>Transaction-Type</th>\n",
       "      <td>0</td>\n",
       "      <td>0.000000</td>\n",
       "    </tr>\n",
       "    <tr>\n",
       "      <th>Date-received</th>\n",
       "      <td>0</td>\n",
       "      <td>0.000000</td>\n",
       "    </tr>\n",
       "    <tr>\n",
       "      <th>Complaint-ID</th>\n",
       "      <td>0</td>\n",
       "      <td>0.000000</td>\n",
       "    </tr>\n",
       "  </tbody>\n",
       "</table>\n",
       "</div>"
      ],
      "text/plain": [
       "                            Total   Percent\n",
       "Company-response            22506  0.520178\n",
       "Consumer-disputes            7698  0.177923\n",
       "Consumer-complaint-summary      0  0.000000\n",
       "Complaint-Status                0  0.000000\n",
       "Date-sent-to-company            0  0.000000\n",
       "Complaint-reason                0  0.000000\n",
       "Transaction-Type                0  0.000000\n",
       "Date-received                   0  0.000000\n",
       "Complaint-ID                    0  0.000000"
      ]
     },
     "execution_count": 48,
     "metadata": {},
     "output_type": "execute_result"
    }
   ],
   "source": [
    "df_null = train.isnull().sum().sort_values(ascending=False)\n",
    "df_null_percent = (train.isnull().sum() / train.isnull().count()).sort_values(ascending=False)\n",
    "missing_data = pd.concat([df_null,df_null_percent], axis=1, keys=['Total', 'Percent'])\n",
    "missing_data.head(9)"
   ]
  },
  {
   "cell_type": "code",
   "execution_count": 49,
   "metadata": {},
   "outputs": [],
   "source": [
    "# class_le = LabelEncoder()\n",
    "# z = class_le.fit_transform(train['Complaint-Status'])\n",
    "# z"
   ]
  },
  {
   "cell_type": "code",
   "execution_count": 50,
   "metadata": {},
   "outputs": [
    {
     "data": {
      "text/html": [
       "<div>\n",
       "<style scoped>\n",
       "    .dataframe tbody tr th:only-of-type {\n",
       "        vertical-align: middle;\n",
       "    }\n",
       "\n",
       "    .dataframe tbody tr th {\n",
       "        vertical-align: top;\n",
       "    }\n",
       "\n",
       "    .dataframe thead th {\n",
       "        text-align: right;\n",
       "    }\n",
       "</style>\n",
       "<table border=\"1\" class=\"dataframe\">\n",
       "  <thead>\n",
       "    <tr style=\"text-align: right;\">\n",
       "      <th></th>\n",
       "      <th>Complaint-ID</th>\n",
       "      <th>Date-received</th>\n",
       "      <th>Transaction-Type</th>\n",
       "      <th>Complaint-reason</th>\n",
       "      <th>Company-response</th>\n",
       "      <th>Date-sent-to-company</th>\n",
       "      <th>Complaint-Status</th>\n",
       "      <th>Consumer-disputes</th>\n",
       "      <th>Consumer-complaint-summary</th>\n",
       "    </tr>\n",
       "    <tr>\n",
       "      <th>Complaint-Status</th>\n",
       "      <th></th>\n",
       "      <th></th>\n",
       "      <th></th>\n",
       "      <th></th>\n",
       "      <th></th>\n",
       "      <th></th>\n",
       "      <th></th>\n",
       "      <th></th>\n",
       "      <th></th>\n",
       "    </tr>\n",
       "  </thead>\n",
       "  <tbody>\n",
       "    <tr>\n",
       "      <th>Closed</th>\n",
       "      <td>809</td>\n",
       "      <td>458</td>\n",
       "      <td>9</td>\n",
       "      <td>46</td>\n",
       "      <td>9</td>\n",
       "      <td>451</td>\n",
       "      <td>1</td>\n",
       "      <td>2</td>\n",
       "      <td>809</td>\n",
       "    </tr>\n",
       "    <tr>\n",
       "      <th>Closed with explanation</th>\n",
       "      <td>34300</td>\n",
       "      <td>920</td>\n",
       "      <td>18</td>\n",
       "      <td>149</td>\n",
       "      <td>10</td>\n",
       "      <td>930</td>\n",
       "      <td>1</td>\n",
       "      <td>2</td>\n",
       "      <td>34121</td>\n",
       "    </tr>\n",
       "    <tr>\n",
       "      <th>Closed with monetary relief</th>\n",
       "      <td>2818</td>\n",
       "      <td>820</td>\n",
       "      <td>17</td>\n",
       "      <td>116</td>\n",
       "      <td>9</td>\n",
       "      <td>804</td>\n",
       "      <td>1</td>\n",
       "      <td>2</td>\n",
       "      <td>2818</td>\n",
       "    </tr>\n",
       "    <tr>\n",
       "      <th>Closed with non-monetary relief</th>\n",
       "      <td>5018</td>\n",
       "      <td>889</td>\n",
       "      <td>17</td>\n",
       "      <td>118</td>\n",
       "      <td>10</td>\n",
       "      <td>883</td>\n",
       "      <td>1</td>\n",
       "      <td>2</td>\n",
       "      <td>4999</td>\n",
       "    </tr>\n",
       "    <tr>\n",
       "      <th>Untimely response</th>\n",
       "      <td>321</td>\n",
       "      <td>257</td>\n",
       "      <td>12</td>\n",
       "      <td>48</td>\n",
       "      <td>0</td>\n",
       "      <td>256</td>\n",
       "      <td>1</td>\n",
       "      <td>1</td>\n",
       "      <td>321</td>\n",
       "    </tr>\n",
       "  </tbody>\n",
       "</table>\n",
       "</div>"
      ],
      "text/plain": [
       "                                 Complaint-ID  Date-received  \\\n",
       "Complaint-Status                                               \n",
       "Closed                                    809            458   \n",
       "Closed with explanation                 34300            920   \n",
       "Closed with monetary relief              2818            820   \n",
       "Closed with non-monetary relief          5018            889   \n",
       "Untimely response                         321            257   \n",
       "\n",
       "                                 Transaction-Type  Complaint-reason  \\\n",
       "Complaint-Status                                                      \n",
       "Closed                                          9                46   \n",
       "Closed with explanation                        18               149   \n",
       "Closed with monetary relief                    17               116   \n",
       "Closed with non-monetary relief                17               118   \n",
       "Untimely response                              12                48   \n",
       "\n",
       "                                 Company-response  Date-sent-to-company  \\\n",
       "Complaint-Status                                                          \n",
       "Closed                                          9                   451   \n",
       "Closed with explanation                        10                   930   \n",
       "Closed with monetary relief                     9                   804   \n",
       "Closed with non-monetary relief                10                   883   \n",
       "Untimely response                               0                   256   \n",
       "\n",
       "                                 Complaint-Status  Consumer-disputes  \\\n",
       "Complaint-Status                                                       \n",
       "Closed                                          1                  2   \n",
       "Closed with explanation                         1                  2   \n",
       "Closed with monetary relief                     1                  2   \n",
       "Closed with non-monetary relief                 1                  2   \n",
       "Untimely response                               1                  1   \n",
       "\n",
       "                                 Consumer-complaint-summary  \n",
       "Complaint-Status                                             \n",
       "Closed                                                  809  \n",
       "Closed with explanation                               34121  \n",
       "Closed with monetary relief                            2818  \n",
       "Closed with non-monetary relief                        4999  \n",
       "Untimely response                                       321  "
      ]
     },
     "execution_count": 50,
     "metadata": {},
     "output_type": "execute_result"
    }
   ],
   "source": [
    "train.groupby('Complaint-Status').nunique()"
   ]
  },
  {
   "cell_type": "code",
   "execution_count": 51,
   "metadata": {},
   "outputs": [],
   "source": [
    "# train['Company-response'].isnull().sum()\n",
    "train.drop('Company-response', axis=1, inplace=True)\n",
    "train.drop('Complaint-Status', axis=1, inplace=True)\n",
    "test.drop('Company-response', axis=1, inplace=True)\n",
    "\n",
    "# train.columns"
   ]
  },
  {
   "cell_type": "code",
   "execution_count": 52,
   "metadata": {},
   "outputs": [],
   "source": [
    "from sklearn.base import TransformerMixin\n",
    "\n",
    "class DataFrameImputer(TransformerMixin):\n",
    "\n",
    "    def __init__(self):\n",
    "        \"\"\"Impute missing values.\n",
    "\n",
    "        Columns of dtype object are imputed with the most frequent value \n",
    "        in column.\n",
    "\n",
    "        Columns of other types are imputed with mean of column.\n",
    "\n",
    "        \"\"\"\n",
    "    def fit(self, X, y=None):\n",
    "\n",
    "        self.fill = pd.Series([X[c].value_counts().index[0]\n",
    "            if X[c].dtype == np.dtype('O') else X[c].mean() for c in X],\n",
    "            index=X.columns)\n",
    "\n",
    "        return self\n",
    "\n",
    "    def transform(self, X, y=None):\n",
    "        return X.fillna(self.fill)\n",
    "\n",
    "\n",
    "X = pd.DataFrame(train[['Consumer-disputes']])\n",
    "te_x = pd.DataFrame(train[['Consumer-disputes']])\n",
    "train[['Consumer-disputes']] = DataFrameImputer().fit_transform(X)\n",
    "test[['Consumer-disputes']] = DataFrameImputer().fit_transform(te_x)"
   ]
  },
  {
   "cell_type": "code",
   "execution_count": 53,
   "metadata": {},
   "outputs": [
    {
     "data": {
      "text/html": [
       "<div>\n",
       "<style scoped>\n",
       "    .dataframe tbody tr th:only-of-type {\n",
       "        vertical-align: middle;\n",
       "    }\n",
       "\n",
       "    .dataframe tbody tr th {\n",
       "        vertical-align: top;\n",
       "    }\n",
       "\n",
       "    .dataframe thead th {\n",
       "        text-align: right;\n",
       "    }\n",
       "</style>\n",
       "<table border=\"1\" class=\"dataframe\">\n",
       "  <thead>\n",
       "    <tr style=\"text-align: right;\">\n",
       "      <th></th>\n",
       "      <th>Complaint-ID</th>\n",
       "      <th>Date-received</th>\n",
       "      <th>Transaction-Type</th>\n",
       "      <th>Complaint-reason</th>\n",
       "      <th>Date-sent-to-company</th>\n",
       "      <th>Consumer-disputes</th>\n",
       "      <th>Consumer-complaint-summary</th>\n",
       "    </tr>\n",
       "  </thead>\n",
       "  <tbody>\n",
       "    <tr>\n",
       "      <th>0</th>\n",
       "      <td>0</td>\n",
       "      <td>128</td>\n",
       "      <td>10</td>\n",
       "      <td>78</td>\n",
       "      <td>135</td>\n",
       "      <td>1</td>\n",
       "      <td>32712</td>\n",
       "    </tr>\n",
       "    <tr>\n",
       "      <th>1</th>\n",
       "      <td>11111</td>\n",
       "      <td>735</td>\n",
       "      <td>5</td>\n",
       "      <td>71</td>\n",
       "      <td>742</td>\n",
       "      <td>0</td>\n",
       "      <td>39918</td>\n",
       "    </tr>\n",
       "    <tr>\n",
       "      <th>2</th>\n",
       "      <td>22222</td>\n",
       "      <td>552</td>\n",
       "      <td>0</td>\n",
       "      <td>145</td>\n",
       "      <td>559</td>\n",
       "      <td>0</td>\n",
       "      <td>5429</td>\n",
       "    </tr>\n",
       "    <tr>\n",
       "      <th>3</th>\n",
       "      <td>33333</td>\n",
       "      <td>131</td>\n",
       "      <td>7</td>\n",
       "      <td>36</td>\n",
       "      <td>138</td>\n",
       "      <td>0</td>\n",
       "      <td>35360</td>\n",
       "    </tr>\n",
       "    <tr>\n",
       "      <th>4</th>\n",
       "      <td>37711</td>\n",
       "      <td>895</td>\n",
       "      <td>3</td>\n",
       "      <td>100</td>\n",
       "      <td>905</td>\n",
       "      <td>0</td>\n",
       "      <td>22874</td>\n",
       "    </tr>\n",
       "  </tbody>\n",
       "</table>\n",
       "</div>"
      ],
      "text/plain": [
       "   Complaint-ID  Date-received  Transaction-Type  Complaint-reason  \\\n",
       "0             0            128                10                78   \n",
       "1         11111            735                 5                71   \n",
       "2         22222            552                 0               145   \n",
       "3         33333            131                 7                36   \n",
       "4         37711            895                 3               100   \n",
       "\n",
       "   Date-sent-to-company  Consumer-disputes  Consumer-complaint-summary  \n",
       "0                   135                  1                       32712  \n",
       "1                   742                  0                       39918  \n",
       "2                   559                  0                        5429  \n",
       "3                   138                  0                       35360  \n",
       "4                   905                  0                       22874  "
      ]
     },
     "execution_count": 53,
     "metadata": {},
     "output_type": "execute_result"
    }
   ],
   "source": [
    "from collections import defaultdict\n",
    "d = defaultdict(LabelEncoder)\n",
    "\n",
    "fit = train.apply(lambda x: d[x.name].fit_transform(x))\n",
    "fit_test = test.apply(lambda x: d[x.name].fit_transform(x))\n",
    "fit.head()"
   ]
  },
  {
   "cell_type": "code",
   "execution_count": 54,
   "metadata": {},
   "outputs": [
    {
     "data": {
      "text/plain": [
       "Index(['Date-received', 'Transaction-Type', 'Complaint-reason',\n",
       "       'Date-sent-to-company', 'Consumer-disputes',\n",
       "       'Consumer-complaint-summary'],\n",
       "      dtype='object')"
      ]
     },
     "execution_count": 54,
     "metadata": {},
     "output_type": "execute_result"
    }
   ],
   "source": [
    "fit.drop('Complaint-ID', axis=1, inplace=True)\n",
    "fit_test.drop('Complaint-ID', axis=1, inplace=True)\n",
    "fit.columns"
   ]
  },
  {
   "cell_type": "code",
   "execution_count": 55,
   "metadata": {},
   "outputs": [
    {
     "data": {
      "text/html": [
       "<div>\n",
       "<style scoped>\n",
       "    .dataframe tbody tr th:only-of-type {\n",
       "        vertical-align: middle;\n",
       "    }\n",
       "\n",
       "    .dataframe tbody tr th {\n",
       "        vertical-align: top;\n",
       "    }\n",
       "\n",
       "    .dataframe thead th {\n",
       "        text-align: right;\n",
       "    }\n",
       "</style>\n",
       "<table border=\"1\" class=\"dataframe\">\n",
       "  <thead>\n",
       "    <tr style=\"text-align: right;\">\n",
       "      <th></th>\n",
       "      <th>0</th>\n",
       "      <th>1</th>\n",
       "      <th>2</th>\n",
       "      <th>3</th>\n",
       "      <th>4</th>\n",
       "      <th>5</th>\n",
       "    </tr>\n",
       "  </thead>\n",
       "  <tbody>\n",
       "    <tr>\n",
       "      <th>0</th>\n",
       "      <td>-1.241213</td>\n",
       "      <td>0.893237</td>\n",
       "      <td>0.378599</td>\n",
       "      <td>-1.238773</td>\n",
       "      <td>2.115005</td>\n",
       "      <td>0.902535</td>\n",
       "    </tr>\n",
       "    <tr>\n",
       "      <th>1</th>\n",
       "      <td>1.087503</td>\n",
       "      <td>-0.422784</td>\n",
       "      <td>0.179011</td>\n",
       "      <td>1.082575</td>\n",
       "      <td>-0.472812</td>\n",
       "      <td>1.482746</td>\n",
       "    </tr>\n",
       "    <tr>\n",
       "      <th>2</th>\n",
       "      <td>0.385435</td>\n",
       "      <td>-1.738804</td>\n",
       "      <td>2.288944</td>\n",
       "      <td>0.382729</td>\n",
       "      <td>-0.472812</td>\n",
       "      <td>-1.294234</td>\n",
       "    </tr>\n",
       "    <tr>\n",
       "      <th>3</th>\n",
       "      <td>-1.229704</td>\n",
       "      <td>0.103625</td>\n",
       "      <td>-0.818931</td>\n",
       "      <td>-1.227300</td>\n",
       "      <td>-0.472812</td>\n",
       "      <td>1.115746</td>\n",
       "    </tr>\n",
       "    <tr>\n",
       "      <th>4</th>\n",
       "      <td>1.701332</td>\n",
       "      <td>-0.949192</td>\n",
       "      <td>1.005877</td>\n",
       "      <td>1.705935</td>\n",
       "      <td>-0.472812</td>\n",
       "      <td>0.110400</td>\n",
       "    </tr>\n",
       "  </tbody>\n",
       "</table>\n",
       "</div>"
      ],
      "text/plain": [
       "          0         1         2         3         4         5\n",
       "0 -1.241213  0.893237  0.378599 -1.238773  2.115005  0.902535\n",
       "1  1.087503 -0.422784  0.179011  1.082575 -0.472812  1.482746\n",
       "2  0.385435 -1.738804  2.288944  0.382729 -0.472812 -1.294234\n",
       "3 -1.229704  0.103625 -0.818931 -1.227300 -0.472812  1.115746\n",
       "4  1.701332 -0.949192  1.005877  1.705935 -0.472812  0.110400"
      ]
     },
     "execution_count": 55,
     "metadata": {},
     "output_type": "execute_result"
    }
   ],
   "source": [
    "from sklearn.preprocessing import StandardScaler\n",
    "stdsc = StandardScaler()\n",
    "fit_std = stdsc.fit_transform(fit)\n",
    "fit_std = pd.DataFrame(fit_std)\n",
    "fit_test_std = stdsc.fit_transform(fit_test)\n",
    "fit_test_std = pd.DataFrame(fit_test_std)\n",
    "fit_std.head()"
   ]
  },
  {
   "cell_type": "code",
   "execution_count": 56,
   "metadata": {},
   "outputs": [],
   "source": [
    "fit_std.columns = [ 'Date-received', 'Transaction-Type', 'Complaint-reason','Date-sent-to-company','Consumer-disputes', 'Consumer-complaint-summary']\n",
    "fit_test_std.columns = [ 'Date-received', 'Transaction-Type', 'Complaint-reason','Date-sent-to-company','Consumer-disputes', 'Consumer-complaint-summary']"
   ]
  },
  {
   "cell_type": "code",
   "execution_count": 57,
   "metadata": {},
   "outputs": [],
   "source": [
    "from sklearn.model_selection import train_test_split\n",
    "X_train,X_test,y_train,y_test = train_test_split(fit,y, test_size=0.3, random_state=1 )"
   ]
  },
  {
   "cell_type": "code",
   "execution_count": 58,
   "metadata": {},
   "outputs": [
    {
     "name": "stdout",
     "output_type": "stream",
     "text": [
      "Transaction-Type 0.23584660700982804\n",
      "Consumer-complaint-summary 0.22291872706071725\n",
      "Date-received 0.17664938380724904\n",
      "Date-sent-to-company 0.1739037448087869\n",
      "Complaint-reason 0.15113247236748822\n",
      "Consumer-disputes 0.039549064945930856\n"
     ]
    }
   ],
   "source": [
    "from sklearn.metrics import confusion_matrix\n",
    "from sklearn.ensemble import RandomForestClassifier\n",
    "feat_label = fit.columns[:]\n",
    "forest = RandomForestClassifier(n_estimators=1400, max_depth=12, min_samples_leaf=4, max_features=0.5, n_jobs=-1, random_state=0)\n",
    "forest.fit(X_train,y_train) #in the random forest we dont need to standardize the data\n",
    "importances = forest.feature_importances_\n",
    "indeces = np.argsort(importances)[::-1]\n",
    "for f in range(X_train.shape[1]):\n",
    "    print(feat_label[indeces[f]], importances[indeces[f]])\n"
   ]
  },
  {
   "cell_type": "code",
   "execution_count": 59,
   "metadata": {},
   "outputs": [],
   "source": [
    "y_pred = forest.predict(X_test)"
   ]
  },
  {
   "cell_type": "code",
   "execution_count": 60,
   "metadata": {},
   "outputs": [
    {
     "data": {
      "text/plain": [
       "array([[    0,   250,     0,     0,     0],\n",
       "       [    0, 10183,    44,    23,     0],\n",
       "       [    0,   816,    55,     1,     0],\n",
       "       [    0,  1481,    16,    24,     0],\n",
       "       [    0,    87,     0,     0,     0]])"
      ]
     },
     "execution_count": 60,
     "metadata": {},
     "output_type": "execute_result"
    }
   ],
   "source": [
    "random_cm = confusion_matrix(y_test,y_pred)\n",
    "random_cm\n"
   ]
  },
  {
   "cell_type": "code",
   "execution_count": 61,
   "metadata": {},
   "outputs": [
    {
     "name": "stdout",
     "output_type": "stream",
     "text": [
      "0.7906009244992296\n"
     ]
    }
   ],
   "source": [
    "from sklearn.metrics import accuracy_score,recall_score,confusion_matrix\n",
    "print(accuracy_score(y_test,y_pred))"
   ]
  },
  {
   "cell_type": "code",
   "execution_count": 41,
   "metadata": {},
   "outputs": [
    {
     "name": "stdout",
     "output_type": "stream",
     "text": [
      "12980\n"
     ]
    }
   ],
   "source": [
    "print(len(y_pred))"
   ]
  },
  {
   "cell_type": "code",
   "execution_count": 62,
   "metadata": {},
   "outputs": [],
   "source": [
    "y_test = forest.predict(fit_test)"
   ]
  },
  {
   "cell_type": "code",
   "execution_count": 63,
   "metadata": {},
   "outputs": [
    {
     "data": {
      "text/html": [
       "<div>\n",
       "<style scoped>\n",
       "    .dataframe tbody tr th:only-of-type {\n",
       "        vertical-align: middle;\n",
       "    }\n",
       "\n",
       "    .dataframe tbody tr th {\n",
       "        vertical-align: top;\n",
       "    }\n",
       "\n",
       "    .dataframe thead th {\n",
       "        text-align: right;\n",
       "    }\n",
       "</style>\n",
       "<table border=\"1\" class=\"dataframe\">\n",
       "  <thead>\n",
       "    <tr style=\"text-align: right;\">\n",
       "      <th></th>\n",
       "      <th>0</th>\n",
       "    </tr>\n",
       "  </thead>\n",
       "  <tbody>\n",
       "    <tr>\n",
       "      <th>0</th>\n",
       "      <td>Closed with explanation</td>\n",
       "    </tr>\n",
       "    <tr>\n",
       "      <th>1</th>\n",
       "      <td>Closed with explanation</td>\n",
       "    </tr>\n",
       "    <tr>\n",
       "      <th>2</th>\n",
       "      <td>Closed with explanation</td>\n",
       "    </tr>\n",
       "    <tr>\n",
       "      <th>3</th>\n",
       "      <td>Closed with explanation</td>\n",
       "    </tr>\n",
       "    <tr>\n",
       "      <th>4</th>\n",
       "      <td>Closed with explanation</td>\n",
       "    </tr>\n",
       "  </tbody>\n",
       "</table>\n",
       "</div>"
      ],
      "text/plain": [
       "                         0\n",
       "0  Closed with explanation\n",
       "1  Closed with explanation\n",
       "2  Closed with explanation\n",
       "3  Closed with explanation\n",
       "4  Closed with explanation"
      ]
     },
     "execution_count": 63,
     "metadata": {},
     "output_type": "execute_result"
    }
   ],
   "source": [
    "predicted = pd.DataFrame(y_test)\n",
    "predicted.head()"
   ]
  },
  {
   "cell_type": "code",
   "execution_count": 65,
   "metadata": {},
   "outputs": [
    {
     "data": {
      "text/plain": [
       "18543"
      ]
     },
     "execution_count": 65,
     "metadata": {},
     "output_type": "execute_result"
    }
   ],
   "source": [
    "predicted.size"
   ]
  },
  {
   "cell_type": "code",
   "execution_count": 71,
   "metadata": {},
   "outputs": [
    {
     "data": {
      "text/html": [
       "<div>\n",
       "<style scoped>\n",
       "    .dataframe tbody tr th:only-of-type {\n",
       "        vertical-align: middle;\n",
       "    }\n",
       "\n",
       "    .dataframe tbody tr th {\n",
       "        vertical-align: top;\n",
       "    }\n",
       "\n",
       "    .dataframe thead th {\n",
       "        text-align: right;\n",
       "    }\n",
       "</style>\n",
       "<table border=\"1\" class=\"dataframe\">\n",
       "  <thead>\n",
       "    <tr style=\"text-align: right;\">\n",
       "      <th></th>\n",
       "      <th>Complaint-ID</th>\n",
       "      <th>Complaint-Status</th>\n",
       "    </tr>\n",
       "  </thead>\n",
       "  <tbody>\n",
       "    <tr>\n",
       "      <th>0</th>\n",
       "      <td>Te-1</td>\n",
       "      <td>Closed with explanation</td>\n",
       "    </tr>\n",
       "    <tr>\n",
       "      <th>1</th>\n",
       "      <td>Te-2</td>\n",
       "      <td>Closed with explanation</td>\n",
       "    </tr>\n",
       "    <tr>\n",
       "      <th>2</th>\n",
       "      <td>Te-3</td>\n",
       "      <td>Closed with explanation</td>\n",
       "    </tr>\n",
       "    <tr>\n",
       "      <th>3</th>\n",
       "      <td>Te-4</td>\n",
       "      <td>Closed with explanation</td>\n",
       "    </tr>\n",
       "    <tr>\n",
       "      <th>4</th>\n",
       "      <td>Te-5</td>\n",
       "      <td>Closed with explanation</td>\n",
       "    </tr>\n",
       "  </tbody>\n",
       "</table>\n",
       "</div>"
      ],
      "text/plain": [
       "  Complaint-ID         Complaint-Status\n",
       "0         Te-1  Closed with explanation\n",
       "1         Te-2  Closed with explanation\n",
       "2         Te-3  Closed with explanation\n",
       "3         Te-4  Closed with explanation\n",
       "4         Te-5  Closed with explanation"
      ]
     },
     "execution_count": 71,
     "metadata": {},
     "output_type": "execute_result"
    }
   ],
   "source": [
    "predi = predicted.reset_index()\n",
    "predi.columns = ['Complaint-ID', 'Complaint-Status' ]\n",
    "predi['Complaint-ID'] = predi.index +1\n",
    "predi['Complaint-ID'] = 'Te-' + predi['Complaint-ID'].astype(str)\n",
    "predi.head()"
   ]
  },
  {
   "cell_type": "code",
   "execution_count": 73,
   "metadata": {},
   "outputs": [],
   "source": [
    "predi.to_csv('prediction.csv')"
   ]
  },
  {
   "cell_type": "code",
   "execution_count": null,
   "metadata": {},
   "outputs": [],
   "source": []
  }
 ],
 "metadata": {
  "kernelspec": {
   "display_name": "Python 3",
   "language": "python",
   "name": "python3"
  },
  "language_info": {
   "codemirror_mode": {
    "name": "ipython",
    "version": 3
   },
   "file_extension": ".py",
   "mimetype": "text/x-python",
   "name": "python",
   "nbconvert_exporter": "python",
   "pygments_lexer": "ipython3",
   "version": "3.5.2"
  }
 },
 "nbformat": 4,
 "nbformat_minor": 2
}
